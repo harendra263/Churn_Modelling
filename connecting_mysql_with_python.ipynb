{
 "cells": [
  {
   "cell_type": "code",
   "execution_count": 11,
   "metadata": {},
   "outputs": [],
   "source": [
    "import mysql.connector\n",
    "from mysql.connector import Error\n",
    "from mysql.connector import errorcode"
   ]
  },
  {
   "cell_type": "code",
   "execution_count": 4,
   "metadata": {},
   "outputs": [
    {
     "name": "stdout",
     "output_type": "stream",
     "text": [
      "Laptop Table created successfully \n",
      "MySQL connection is closed\n"
     ]
    }
   ],
   "source": [
    "try :\n",
    "    connection = mysql.connector.connect(host='localhost',\n",
    "                                         database='world',\n",
    "                                         user='root',\n",
    "                                         password='root')\n",
    "    \n",
    "    mySql_Create_Table_Query = \"\"\"CREATE TABLE Laptop ( \n",
    "                             Id int(11) NOT NULL,\n",
    "                             Name varchar(250) NOT NULL,\n",
    "                             Price float NOT NULL,\n",
    "                             Purchase_date Date NOT NULL,\n",
    "                             PRIMARY KEY (Id)) \"\"\"\n",
    "\n",
    "    cursor = connection.cursor()\n",
    "    result = cursor.execute(mySql_Create_Table_Query)\n",
    "    print(\"Laptop Table created successfully \")\n",
    "\n",
    "except mysql.connector.Error as error:\n",
    "    print(\"Failed to create table in MySQL: {}\".format(error))\n",
    "finally:\n",
    "    if (connection.is_connected()):\n",
    "        cursor.close()\n",
    "        connection.close()\n",
    "        print(\"MySQL connection is closed\")"
   ]
  },
  {
   "cell_type": "code",
   "execution_count": 1,
   "metadata": {},
   "outputs": [],
   "source": [
    "# steps to call stored procedure\n",
    "\n",
    "import mysql.connector\n",
    "from mysql.connector import Error"
   ]
  },
  {
   "cell_type": "code",
   "execution_count": 4,
   "metadata": {},
   "outputs": [
    {
     "name": "stdout",
     "output_type": "stream",
     "text": [
      "Printing laptop details\n",
      "[(1, 'ASUS', 58000.0, datetime.date(2019, 10, 8))]\n",
      "Mysql connection is closed\n"
     ]
    }
   ],
   "source": [
    "try:\n",
    "    connection = mysql.connector.connect(host = 'localhost',\n",
    "                                           database = 'world',\n",
    "                                           user= 'root',\n",
    "                                           password = 'root')\n",
    "    cursor  = connection.cursor()\n",
    "    cursor.callproc('get_laptop',[1,])\n",
    "    # print results\n",
    "    print('Printing laptop details')\n",
    "    for results in cursor.stored_results():\n",
    "        print(results.fetchall())\n",
    "        \n",
    "except mysql.connector.Error as error:\n",
    "        print(\"Failed to execute stored procedure: {}\".format(error))\n",
    "finally :\n",
    "        if( connection.is_connected()):\n",
    "            cursor.close()\n",
    "            connection.close()\n",
    "            print('Mysql connection is closed')\n",
    "    \n",
    "    \n",
    "    \n",
    "    \n",
    "    "
   ]
  },
  {
   "cell_type": "code",
   "execution_count": 13,
   "metadata": {},
   "outputs": [
    {
     "name": "stdout",
     "output_type": "stream",
     "text": [
      "Record inserted successfully into Laptop table\n",
      "Mysql connection is closed\n"
     ]
    }
   ],
   "source": [
    "try :\n",
    "    connection = mysql.connector.connect(host = 'localhost',\n",
    "                                        database = 'world',\n",
    "                                        user = 'root',\n",
    "                                        password = 'root')\n",
    "    \n",
    "    Mysql_insert_query = \"\"\" Insert into laptop(Id, Name, Price, Purchase_date) values(2, \"HP\",65000,'2017-10-15') \"\"\"\n",
    "    \n",
    "    cursor = connection.cursor()\n",
    "    result = cursor.execute(Mysql_insert_query)\n",
    "    connection.commit()\n",
    "    print('Record inserted successfully into Laptop table')\n",
    "    cursor.close()\n",
    "    \n",
    "except mysql.connector.Error as error:\n",
    "    print(\"Failed to insert details: {}\".format(error))\n",
    "    \n",
    "finally:\n",
    "    if(connection.is_connected()):\n",
    "        connection.close()\n",
    "        print('Mysql connection is closed')\n",
    "    \n",
    "    \n",
    "    \n",
    "    "
   ]
  },
  {
   "cell_type": "code",
   "execution_count": null,
   "metadata": {},
   "outputs": [],
   "source": []
  }
 ],
 "metadata": {
  "kernelspec": {
   "display_name": "Python 3",
   "language": "python",
   "name": "python3"
  },
  "language_info": {
   "codemirror_mode": {
    "name": "ipython",
    "version": 3
   },
   "file_extension": ".py",
   "mimetype": "text/x-python",
   "name": "python",
   "nbconvert_exporter": "python",
   "pygments_lexer": "ipython3",
   "version": "3.7.3"
  }
 },
 "nbformat": 4,
 "nbformat_minor": 2
}
